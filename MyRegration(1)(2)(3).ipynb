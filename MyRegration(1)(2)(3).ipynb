{
 "cells": [
  {
   "cell_type": "code",
   "execution_count": 1,
   "id": "c8a9ec86",
   "metadata": {},
   "outputs": [
    {
     "name": "stdout",
     "output_type": "stream",
     "text": [
      "Requirement already satisfied: pennylane in c:\\users\\neochenqchacker\\appdata\\roaming\\python\\python39\\site-packages (0.23.1)\n",
      "Requirement already satisfied: autoray>=0.3.1 in c:\\users\\neochenqchacker\\appdata\\roaming\\python\\python39\\site-packages (from pennylane) (0.3.1)\n",
      "Requirement already satisfied: retworkx in c:\\users\\neochenqchacker\\appdata\\roaming\\python\\python39\\site-packages (from pennylane) (0.11.0)\n",
      "Requirement already satisfied: pennylane-lightning>=0.23 in c:\\users\\neochenqchacker\\appdata\\roaming\\python\\python39\\site-packages (from pennylane) (0.23.0)\n",
      "Requirement already satisfied: appdirs in c:\\users\\neochenqchacker\\anaconda3\\lib\\site-packages (from pennylane) (1.4.4)\n",
      "Requirement already satisfied: toml in c:\\users\\neochenqchacker\\anaconda3\\lib\\site-packages (from pennylane) (0.10.2)\n",
      "Requirement already satisfied: autograd in c:\\users\\neochenqchacker\\appdata\\roaming\\python\\python39\\site-packages (from pennylane) (1.4)\n",
      "Requirement already satisfied: numpy in c:\\users\\neochenqchacker\\anaconda3\\lib\\site-packages (from pennylane) (1.21.5)\n",
      "Requirement already satisfied: networkx in c:\\users\\neochenqchacker\\anaconda3\\lib\\site-packages (from pennylane) (2.7.1)\n",
      "Requirement already satisfied: scipy in c:\\users\\neochenqchacker\\anaconda3\\lib\\site-packages (from pennylane) (1.7.3)\n",
      "Requirement already satisfied: cachetools in c:\\users\\neochenqchacker\\anaconda3\\lib\\site-packages (from pennylane) (4.2.2)\n",
      "Requirement already satisfied: semantic-version==2.6 in c:\\users\\neochenqchacker\\appdata\\roaming\\python\\python39\\site-packages (from pennylane) (2.6.0)\n",
      "Requirement already satisfied: ninja in c:\\users\\neochenqchacker\\appdata\\roaming\\python\\python39\\site-packages (from pennylane-lightning>=0.23->pennylane) (1.10.2.3)\n",
      "Requirement already satisfied: future>=0.15.2 in c:\\users\\neochenqchacker\\anaconda3\\lib\\site-packages (from autograd->pennylane) (0.18.2)\n"
     ]
    }
   ],
   "source": [
    "#! pip install cachetools\n",
    "! pip install pennylane"
   ]
  },
  {
   "cell_type": "code",
   "execution_count": 2,
   "id": "849bd194",
   "metadata": {},
   "outputs": [],
   "source": [
    "import pennylane as qml\n",
    "from pennylane import numpy as np\n",
    "from pennylane.optimize import AdamOptimizer"
   ]
  },
  {
   "cell_type": "code",
   "execution_count": 3,
   "id": "912e1536",
   "metadata": {},
   "outputs": [],
   "source": [
    "dev = qml.device(\"strawberryfields.fock\", wires=1, cutoff_dim=10)"
   ]
  },
  {
   "cell_type": "code",
   "execution_count": 4,
   "id": "781ed500",
   "metadata": {},
   "outputs": [],
   "source": [
    "def layer(v):\n",
    "    # Matrix multiplication of input layer\n",
    "    qml.Rotation(v[0], wires=0)\n",
    "    qml.Squeezing(v[1], 0.0, wires=0)\n",
    "    qml.Rotation(v[2], wires=0)\n",
    "\n",
    "    # Bias\n",
    "    qml.Displacement(v[3], 0.0, wires=0)\n",
    "\n",
    "    # Element-wise nonlinear transformation\n",
    "    qml.Kerr(v[4], wires=0)"
   ]
  },
  {
   "cell_type": "code",
   "execution_count": 5,
   "id": "adbf8100",
   "metadata": {},
   "outputs": [],
   "source": [
    "@qml.qnode(dev)\n",
    "def quantum_neural_net(var, x):\n",
    "    # Encode input x into quantum state\n",
    "    qml.Displacement(x, 0.0, wires=0)\n",
    "\n",
    "    # \"layer\" subcircuits\n",
    "    for v in var:\n",
    "        layer(v)\n",
    "\n",
    "    return qml.expval(qml.X(0))"
   ]
  },
  {
   "cell_type": "code",
   "execution_count": 6,
   "id": "ec0cdb05",
   "metadata": {},
   "outputs": [],
   "source": [
    "def square_loss(labels, predictions):\n",
    "    loss = 0\n",
    "    for l, p in zip(labels, predictions):\n",
    "        loss = loss + (l - p) ** 2\n",
    "\n",
    "    loss = loss / len(labels)\n",
    "    return loss"
   ]
  },
  {
   "cell_type": "code",
   "execution_count": 7,
   "id": "285fc457",
   "metadata": {},
   "outputs": [],
   "source": [
    "def cost(var, features, labels):\n",
    "    preds = [quantum_neural_net(var, x) for x in features]\n",
    "    return square_loss(labels, preds)"
   ]
  },
  {
   "cell_type": "code",
   "execution_count": 8,
   "id": "67092d70",
   "metadata": {},
   "outputs": [],
   "source": [
    "##import csv\n",
    "##data = open('ccfraud_10_features_1968.txt')\n",
    "data = open('sine.txt')\n",
    "##data = open('ccfraud_10_features_1968.csv')\n",
    "#from numpy import genfromtxt\n",
    "##data = genfromtxt('sine.txt', delimiter=',')\n",
    "#my_data = genfrom('ccfraud_10_features_1968.csv', delimiter=',')"
   ]
  },
  {
   "cell_type": "code",
   "execution_count": 9,
   "id": "b0a62d07",
   "metadata": {},
   "outputs": [],
   "source": [
    "##data = np.loadtxt(\"ccfraud_10_features_1968.txt\",dtype=np.int,delimiter=',')\n",
    "##data = np.loadtxt(\"ccfraud_10_features_1968.txt\",dtype=np.int,delimiter=',')\n",
    "##X = np.array(data)\n",
    "##Y = np.array(data[:, 1])\n",
    "data = np.loadtxt(\"sine.txt\")\n",
    "##X = np.array(data[:, 0], requires_grad=False)\n",
    "##Y = np.array(data[:, 1], requires_grad=False)"
   ]
  },
  {
   "cell_type": "code",
   "execution_count": 10,
   "id": "88c1d51d",
   "metadata": {},
   "outputs": [
    {
     "data": {
      "image/png": "[encoded data removed]",
      "text/plain": [
       "<Figure size 432x288 with 1 Axes>"
      ]
     },
     "metadata": {
      "needs_background": "light"
     },
     "output_type": "display_data"
    }
   ],
   "source": [
    "import matplotlib.pyplot as plt\n",
    "\n",
    "plt.figure()\n",
    "##plt.scatter(X, Y)\n",
    "plt.xlabel(\"x\", fontsize=18)\n",
    "plt.ylabel(\"f(x)\", fontsize=18)\n",
    "plt.tick_params(axis=\"both\", which=\"major\", labelsize=16)\n",
    "plt.tick_params(axis=\"both\", which=\"minor\", labelsize=16)\n",
    "plt.show()"
   ]
  },
  {
   "cell_type": "code",
   "execution_count": 14,
   "id": "32884f17",
   "metadata": {},
   "outputs": [
    {
     "name": "stdout",
     "output_type": "stream",
     "text": [
      "[[ 0.08820262  0.02000786  0.0489369   0.11204466  0.0933779 ]\n",
      " [-0.04886389  0.04750442 -0.00756786 -0.00516094  0.02052993]\n",
      " [ 0.00720218  0.07271368  0.03805189  0.00608375  0.02219316]\n",
      " [ 0.01668372  0.07470395 -0.01025791  0.01565339 -0.04270479]]\n"
     ]
    }
   ],
   "source": [
    "np.random.seed(0)\n",
    "num_layers = 4\n",
    "var_init = 0.05 * np.random.randn(num_layers, 5, requires_grad=True)\n",
    "print(var_init)"
   ]
  },
  {
   "cell_type": "code",
   "execution_count": 13,
   "id": "77961428",
   "metadata": {},
   "outputs": [
    {
     "name": "stdout",
     "output_type": "stream",
     "text": [
      "Iter:     0 | Cost: 0.2103589 \n",
      "Iter:     1 | Cost: 0.1591662 \n",
      "Iter:     2 | Cost: 0.1547870 \n",
      "Iter:     3 | Cost: 0.1703646 \n",
      "Iter:     4 | Cost: 0.1728650 \n"
     ]
    }
   ],
   "source": [
    "opt = AdamOptimizer(0.01, beta1=0.9, beta2=0.999)\n",
    "\n",
    "var = var_init\n",
    "\n",
    "data = np.loadtxt(\"sine.txt\")\n",
    "X = np.array(data[:, 0], requires_grad=False)\n",
    "Y = np.array(data[:, 1], requires_grad=False)\n",
    "(var, a, b), _cost = opt.step_and_cost(cost, var, X, Y)\n",
    "\n",
    "\n",
    "## 回和數越大學習樂好但是算的曼\n",
    "for it in range(5):\n",
    "    ##(var, a, b), _cost = opt.step_and_cost(cost, var, X, Y)\n",
    "    (var, a, b), _cost = opt.step_and_cost(cost, var, X, Y)\n",
    "    print(\"Iter: {:5d} | Cost: {:0.7f} \".format(it, _cost))\n"
   ]
  },
  {
   "cell_type": "code",
   "execution_count": 12,
   "id": "c01e6e3e",
   "metadata": {},
   "outputs": [
    {
     "ename": "NameError",
     "evalue": "name 'var' is not defined",
     "output_type": "error",
     "traceback": [
      "\u001b[1;31m---------------------------------------------------------------------------\u001b[0m",
      "\u001b[1;31mNameError\u001b[0m                                 Traceback (most recent call last)",
      "\u001b[1;32m~\\AppData\\Local\\Temp\\ipykernel_7988\\1281896199.py\u001b[0m in \u001b[0;36m<cell line: 2>\u001b[1;34m()\u001b[0m\n\u001b[0;32m      1\u001b[0m \u001b[0mx_pred\u001b[0m \u001b[1;33m=\u001b[0m \u001b[0mnp\u001b[0m\u001b[1;33m.\u001b[0m\u001b[0mlinspace\u001b[0m\u001b[1;33m(\u001b[0m\u001b[1;33m-\u001b[0m\u001b[1;36m1\u001b[0m\u001b[1;33m,\u001b[0m \u001b[1;36m1\u001b[0m\u001b[1;33m,\u001b[0m \u001b[1;36m50\u001b[0m\u001b[1;33m)\u001b[0m\u001b[1;33m\u001b[0m\u001b[1;33m\u001b[0m\u001b[0m\n\u001b[1;32m----> 2\u001b[1;33m \u001b[0mpredictions\u001b[0m \u001b[1;33m=\u001b[0m \u001b[1;33m[\u001b[0m\u001b[0mquantum_neural_net\u001b[0m\u001b[1;33m(\u001b[0m\u001b[0mvar\u001b[0m\u001b[1;33m,\u001b[0m \u001b[0mx_\u001b[0m\u001b[1;33m)\u001b[0m \u001b[1;32mfor\u001b[0m \u001b[0mx_\u001b[0m \u001b[1;32min\u001b[0m \u001b[0mx_pred\u001b[0m\u001b[1;33m]\u001b[0m\u001b[1;33m\u001b[0m\u001b[1;33m\u001b[0m\u001b[0m\n\u001b[0m",
      "\u001b[1;32m~\\AppData\\Local\\Temp\\ipykernel_7988\\1281896199.py\u001b[0m in \u001b[0;36m<listcomp>\u001b[1;34m(.0)\u001b[0m\n\u001b[0;32m      1\u001b[0m \u001b[0mx_pred\u001b[0m \u001b[1;33m=\u001b[0m \u001b[0mnp\u001b[0m\u001b[1;33m.\u001b[0m\u001b[0mlinspace\u001b[0m\u001b[1;33m(\u001b[0m\u001b[1;33m-\u001b[0m\u001b[1;36m1\u001b[0m\u001b[1;33m,\u001b[0m \u001b[1;36m1\u001b[0m\u001b[1;33m,\u001b[0m \u001b[1;36m50\u001b[0m\u001b[1;33m)\u001b[0m\u001b[1;33m\u001b[0m\u001b[1;33m\u001b[0m\u001b[0m\n\u001b[1;32m----> 2\u001b[1;33m \u001b[0mpredictions\u001b[0m \u001b[1;33m=\u001b[0m \u001b[1;33m[\u001b[0m\u001b[0mquantum_neural_net\u001b[0m\u001b[1;33m(\u001b[0m\u001b[0mvar\u001b[0m\u001b[1;33m,\u001b[0m \u001b[0mx_\u001b[0m\u001b[1;33m)\u001b[0m \u001b[1;32mfor\u001b[0m \u001b[0mx_\u001b[0m \u001b[1;32min\u001b[0m \u001b[0mx_pred\u001b[0m\u001b[1;33m]\u001b[0m\u001b[1;33m\u001b[0m\u001b[1;33m\u001b[0m\u001b[0m\n\u001b[0m",
      "\u001b[1;31mNameError\u001b[0m: name 'var' is not defined"
     ]
    }
   ],
   "source": [
    "x_pred = np.linspace(-1, 1, 50)\n",
    "predictions = [quantum_neural_net(var, x_) for x_ in x_pred]"
   ]
  },
  {
   "cell_type": "code",
   "execution_count": 14,
   "id": "fa2c356e",
   "metadata": {},
   "outputs": [
    {
     "data": {
      "image/png": "[encoded data removed]",
      "text/plain": [
       "<Figure size 432x288 with 1 Axes>"
      ]
     },
     "metadata": {
      "needs_background": "light"
     },
     "output_type": "display_data"
    }
   ],
   "source": [
    "plt.figure()\n",
    "plt.scatter(X, Y)\n",
    "plt.scatter(x_pred, predictions, color=\"green\")\n",
    "plt.xlabel(\"x\")\n",
    "plt.ylabel(\"f(x)\")\n",
    "plt.tick_params(axis=\"both\", which=\"major\")\n",
    "plt.tick_params(axis=\"both\", which=\"minor\")\n",
    "plt.show()"
   ]
  },
  {
   "cell_type": "code",
   "execution_count": 21,
   "id": "99528d7a",
   "metadata": {},
   "outputs": [
    {
     "data": {
      "image/png": "[encoded data removed]",
      "text/plain": [
       "<Figure size 432x288 with 1 Axes>"
      ]
     },
     "metadata": {
      "needs_background": "light"
     },
     "output_type": "display_data"
    }
   ],
   "source": [
    "variance = 1.0\n",
    "\n",
    "plt.figure()\n",
    "x_pred = np.linspace(-2, 2, 50)\n",
    "for i in range(7):\n",
    "    rnd_var = variance * np.random.randn(num_layers, 7)\n",
    "    predictions = [quantum_neural_net(rnd_var, x_) for x_ in x_pred]\n",
    "    plt.plot(x_pred, predictions, color=\"blue\")\n",
    "plt.xlabel(\"x\")\n",
    "plt.ylabel(\"f(x)\")\n",
    "plt.tick_params(axis=\"both\", which=\"major\")\n",
    "plt.tick_params(axis=\"both\", which=\"minor\")\n",
    "plt.show()"
   ]
  },
  {
   "cell_type": "code",
   "execution_count": null,
   "id": "0a85794a",
   "metadata": {},
   "outputs": [],
   "source": []
  }
 ],
 "metadata": {
  "kernelspec": {
   "display_name": "Python 3 (ipykernel)",
   "language": "python",
   "name": "python3"
  },
  "language_info": {
   "codemirror_mode": {
    "name": "ipython",
    "version": 3
   },
   "file_extension": ".py",
   "mimetype": "text/x-python",
   "name": "python",
   "nbconvert_exporter": "python",
   "pygments_lexer": "ipython3",
   "version": "3.9.12"
  }
 },
 "nbformat": 4,
 "nbformat_minor": 5
}
